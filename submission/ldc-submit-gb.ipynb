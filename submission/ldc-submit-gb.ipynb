{
 "cells": [
  {
   "cell_type": "markdown",
   "metadata": {
    "colab_type": "text",
    "id": "Hnhp0Pjt77tB"
   },
   "source": [
    "# Writing LDC solution files for galactic binaries"
   ]
  },
  {
   "cell_type": "markdown",
   "metadata": {
    "colab_type": "text",
    "id": "mIHCMPeqDalJ"
   },
   "source": [
    "Maude, 2022/09/30, adapted from Michele's first version (2018/01/24)"
   ]
  },
  {
   "cell_type": "code",
   "execution_count": 1,
   "metadata": {
    "colab": {},
    "colab_type": "code",
    "id": "9wo_u3dh7-ws"
   },
   "outputs": [],
   "source": [
    "import yaml\n",
    "import numpy\n",
    "import csv\n",
    "import pandas"
   ]
  },
  {
   "cell_type": "code",
   "execution_count": 2,
   "metadata": {
    "colab": {},
    "colab_type": "code",
    "id": "fI6DHpz98AHV"
   },
   "outputs": [],
   "source": [
    "entry = {'author': 'Maude Le Jeune',\n",
    "         'e-mail': 'lejeune@lejeune.org',\n",
    "         'date': '2022/09/30',           # standardize?\n",
    "         'challenge': 'LDC2a',\n",
    "         'dataset': 'LDC2a-training-GB'}"
   ]
  },
  {
   "cell_type": "markdown",
   "metadata": {
    "colab_type": "text",
    "id": "uMBmUg7f8Ikg"
   },
   "source": [
    "## A point estimate, from a Python dict"
   ]
  },
  {
   "cell_type": "markdown",
   "metadata": {
    "colab_type": "text",
    "id": "4Wclver48Swx"
   },
   "source": [
    "We use standard LVC units, except for frequency, which is given in mHz to avoid potential precision issues"
   ]
  },
  {
   "cell_type": "code",
   "execution_count": 3,
   "metadata": {
    "colab": {},
    "colab_type": "code",
    "id": "7ZO12jBP8KqZ"
   },
   "outputs": [],
   "source": [
    "gb = {  'Amplitude' :4.065235140346656e-23, \n",
    "        'Frequency' :2.1869889108004115, \n",
    "        'FrequencyDerivative':4.837869734659327e-17, \n",
    "        'EclipticLatitude': -0.3982801352498764, \n",
    "        'EclipticLongitude': 4.4946831814774795, \n",
    "        'Inclination': 1.0208838997376564, \n",
    "        'Polarization': 3.737792079072995, \n",
    "        'InitialPhase': 5.6307387805247435, \n",
    "     }\n",
    "units = {  \n",
    "        'Amplitude' :1, \n",
    "        'Frequency' :'mHz',\n",
    "        'FrequencyDerivative':'Hz',\n",
    "        'EclipticLatitude': 'rad',\n",
    "        'EclipticLongitude': 'rad',\n",
    "        'Inclination': 'rad',\n",
    "        'Polarization': 'rad', \n",
    "        'InitialPhase': 'rad' \n",
    "     }"
   ]
  },
  {
   "cell_type": "markdown",
   "metadata": {
    "colab_type": "text",
    "id": "W-wpw9GU8xt9"
   },
   "source": [
    "Use multiple list items for multiple sources."
   ]
  },
  {
   "cell_type": "code",
   "execution_count": 4,
   "metadata": {
    "colab": {},
    "colab_type": "code",
    "id": "wmKli-138WaP"
   },
   "outputs": [],
   "source": [
    "entry['estimates'] = [gb]\n",
    "entry['units'] = units"
   ]
  },
  {
   "cell_type": "code",
   "execution_count": 5,
   "metadata": {
    "colab": {
     "base_uri": "https://localhost:8080/",
     "height": 34
    },
    "colab_type": "code",
    "id": "MBr49KwM8Z1e",
    "outputId": "eefe3c80-ad95-4abf-ed52-e91e21a85296"
   },
   "outputs": [
    {
     "data": {
      "text/plain": [
       "591"
      ]
     },
     "execution_count": 5,
     "metadata": {},
     "output_type": "execute_result"
    }
   ],
   "source": [
    "open('lejeune-ldc2a-training-gb.yaml','w').write(yaml.dump(entry, default_flow_style=False))"
   ]
  },
  {
   "cell_type": "code",
   "execution_count": 6,
   "metadata": {
    "colab": {
     "base_uri": "https://localhost:8080/",
     "height": 456
    },
    "colab_type": "code",
    "id": "loj0AI8C8jgH",
    "outputId": "b510d583-3337-4efd-8d1a-ce6528d90263"
   },
   "outputs": [
    {
     "name": "stdout",
     "output_type": "stream",
     "text": [
      "author: Maude Le Jeune\r\n",
      "challenge: LDC2a\r\n",
      "dataset: LDC2a-training-GB\r\n",
      "date: 2022/09/30\r\n",
      "e-mail: lejeune@lejeune.org\r\n",
      "estimates:\r\n",
      "- Amplitude: 4.065235140346656e-23\r\n",
      "  EclipticLatitude: -0.3982801352498764\r\n",
      "  EclipticLongitude: 4.4946831814774795\r\n",
      "  Frequency: 2.1869889108004115\r\n",
      "  FrequencyDerivative: 4.837869734659327e-17\r\n",
      "  Inclination: 1.0208838997376564\r\n",
      "  InitialPhase: 5.6307387805247435\r\n",
      "  Polarization: 3.737792079072995\r\n",
      "units:\r\n",
      "  Amplitude: 1\r\n",
      "  EclipticLatitude: rad\r\n",
      "  EclipticLongitude: rad\r\n",
      "  Frequency: mHz\r\n",
      "  FrequencyDerivative: Hz\r\n",
      "  Inclination: rad\r\n",
      "  InitialPhase: rad\r\n",
      "  Polarization: rad\r\n"
     ]
    }
   ],
   "source": [
    "!cat lejeune-ldc2a-training-gb.yaml"
   ]
  },
  {
   "cell_type": "markdown",
   "metadata": {
    "colab_type": "text",
    "id": "zZ5IOCQg8vk1"
   },
   "source": [
    "### With errors (here we make them up, but you would get them from elsewhere)"
   ]
  },
  {
   "cell_type": "code",
   "execution_count": 7,
   "metadata": {
    "colab": {},
    "colab_type": "code",
    "id": "dyuhjNWb87WD"
   },
   "outputs": [],
   "source": [
    "gb_werr = {key: '{} +/- {}'.format(value, value * 0.01) if isinstance(value, float) else value\n",
    "             for key, value in gb.items()}"
   ]
  },
  {
   "cell_type": "code",
   "execution_count": 8,
   "metadata": {
    "colab": {},
    "colab_type": "code",
    "id": "_ksX4Zvq9_t4"
   },
   "outputs": [],
   "source": [
    "entry['estimates'] = [gb_werr]\n",
    "entry['notes'] = '1-sigma errors'"
   ]
  },
  {
   "cell_type": "code",
   "execution_count": 9,
   "metadata": {
    "colab": {
     "base_uri": "https://localhost:8080/",
     "height": 34
    },
    "colab_type": "code",
    "id": "DczzUJ_O9llo",
    "outputId": "a86cd9fb-008e-4519-c8f9-975b0e3f244b"
   },
   "outputs": [
    {
     "data": {
      "text/plain": [
       "814"
      ]
     },
     "execution_count": 9,
     "metadata": {},
     "output_type": "execute_result"
    }
   ],
   "source": [
    "open('lejeune-ldc2a-training-gb_werr.yaml','w').write(yaml.dump(entry, default_flow_style=False))"
   ]
  },
  {
   "cell_type": "code",
   "execution_count": 10,
   "metadata": {
    "colab": {
     "base_uri": "https://localhost:8080/",
     "height": 473
    },
    "colab_type": "code",
    "id": "bQpZiwh19nzz",
    "outputId": "73eae33c-d80c-4688-fe95-d6f86bed1e50"
   },
   "outputs": [
    {
     "name": "stdout",
     "output_type": "stream",
     "text": [
      "author: Maude Le Jeune\r\n",
      "challenge: LDC2a\r\n",
      "dataset: LDC2a-training-GB\r\n",
      "date: 2022/09/30\r\n",
      "e-mail: lejeune@lejeune.org\r\n",
      "estimates:\r\n",
      "- Amplitude: 4.065235140346656e-23 +/- 4.065235140346656e-25\r\n",
      "  EclipticLatitude: -0.3982801352498764 +/- -0.003982801352498764\r\n",
      "  EclipticLongitude: 4.4946831814774795 +/- 0.044946831814774796\r\n",
      "  Frequency: 2.1869889108004115 +/- 0.021869889108004116\r\n",
      "  FrequencyDerivative: 4.837869734659327e-17 +/- 4.837869734659327e-19\r\n",
      "  Inclination: 1.0208838997376564 +/- 0.010208838997376565\r\n",
      "  InitialPhase: 5.6307387805247435 +/- 0.05630738780524744\r\n",
      "  Polarization: 3.737792079072995 +/- 0.03737792079072995\r\n",
      "notes: 1-sigma errors\r\n",
      "units:\r\n",
      "  Amplitude: 1\r\n",
      "  EclipticLatitude: rad\r\n",
      "  EclipticLongitude: rad\r\n",
      "  Frequency: mHz\r\n",
      "  FrequencyDerivative: Hz\r\n",
      "  Inclination: rad\r\n",
      "  InitialPhase: rad\r\n",
      "  Polarization: rad\r\n"
     ]
    }
   ],
   "source": [
    "!cat lejeune-ldc2a-training-gb_werr.yaml"
   ]
  },
  {
   "cell_type": "markdown",
   "metadata": {
    "colab_type": "text",
    "id": "58-Nv41s-Cbb"
   },
   "source": [
    "### With ranges"
   ]
  },
  {
   "cell_type": "code",
   "execution_count": 11,
   "metadata": {
    "colab": {},
    "colab_type": "code",
    "id": "UcWfWPPn-MMB"
   },
   "outputs": [],
   "source": [
    "gb_range = {key: '{} + {} - {}'.format(value, value * 0.02, value * 0.01) if isinstance(value, float) else value\n",
    "             for key, value in gb.items()}"
   ]
  },
  {
   "cell_type": "code",
   "execution_count": 12,
   "metadata": {
    "colab": {},
    "colab_type": "code",
    "id": "kWU8Imtj-RUI"
   },
   "outputs": [],
   "source": [
    "entry['estimates'] = [gb_range]\n",
    "entry['notes'] = '90% symmetric credible interval'"
   ]
  },
  {
   "cell_type": "code",
   "execution_count": 13,
   "metadata": {
    "colab": {
     "base_uri": "https://localhost:8080/",
     "height": 34
    },
    "colab_type": "code",
    "id": "7i5oYAqA-TLK",
    "outputId": "8abf0c6b-d33f-4312-8eb7-ef8aad6a76cf"
   },
   "outputs": [
    {
     "data": {
      "text/plain": [
       "996"
      ]
     },
     "execution_count": 13,
     "metadata": {},
     "output_type": "execute_result"
    }
   ],
   "source": [
    "open('lejeune-ldc2a-sangria-gb_range.yaml','w').write(yaml.dump(entry, default_flow_style=False))"
   ]
  },
  {
   "cell_type": "code",
   "execution_count": 14,
   "metadata": {
    "colab": {
     "base_uri": "https://localhost:8080/",
     "height": 473
    },
    "colab_type": "code",
    "id": "iVKAPtpW-WXI",
    "outputId": "8822428d-f03b-4065-bb74-5d9fbcc3c79d"
   },
   "outputs": [
    {
     "name": "stdout",
     "output_type": "stream",
     "text": [
      "author: Maude Le Jeune\r\n",
      "challenge: LDC2a\r\n",
      "dataset: LDC2a-training-GB\r\n",
      "date: 2022/09/30\r\n",
      "e-mail: lejeune@lejeune.org\r\n",
      "estimates:\r\n",
      "- Amplitude: 4.065235140346656e-23 + 8.130470280693312e-25 - 4.065235140346656e-25\r\n",
      "  EclipticLatitude: -0.3982801352498764 + -0.007965602704997528 - -0.003982801352498764\r\n",
      "  EclipticLongitude: 4.4946831814774795 + 0.08989366362954959 - 0.044946831814774796\r\n",
      "  Frequency: 2.1869889108004115 + 0.04373977821600823 - 0.021869889108004116\r\n",
      "  FrequencyDerivative: 4.837869734659327e-17 + 9.675739469318655e-19 - 4.837869734659327e-19\r\n",
      "  Inclination: 1.0208838997376564 + 0.02041767799475313 - 0.010208838997376565\r\n",
      "  InitialPhase: 5.6307387805247435 + 0.11261477561049488 - 0.05630738780524744\r\n",
      "  Polarization: 3.737792079072995 + 0.0747558415814599 - 0.03737792079072995\r\n",
      "notes: 90% symmetric credible interval\r\n",
      "units:\r\n",
      "  Amplitude: 1\r\n",
      "  EclipticLatitude: rad\r\n",
      "  EclipticLongitude: rad\r\n",
      "  Frequency: mHz\r\n",
      "  FrequencyDerivative: Hz\r\n",
      "  Inclination: rad\r\n",
      "  InitialPhase: rad\r\n",
      "  Polarization: rad\r\n"
     ]
    }
   ],
   "source": [
    "!cat lejeune-ldc2a-sangria-gb_range.yaml"
   ]
  },
  {
   "cell_type": "markdown",
   "metadata": {
    "colab_type": "text",
    "id": "BoyAvoI_-YIf"
   },
   "source": [
    "## A posterior table, from a numpy array"
   ]
  },
  {
   "cell_type": "markdown",
   "metadata": {
    "colab_type": "text",
    "id": "gmYStEX__hqo"
   },
   "source": [
    "We assume that: \n",
    "- overlapping sources have been sampled together such that a chain contains 8 x n_source columns. \n",
    "- each chain correspond to a given frequency range [fmin-fmax], which potentially overlaps with others, such that a source can appear twice in the ensemble chain files. \n",
    "\n",
    "Thus, a posterior table has 8 x n_source columns named after parameter name with a suffix corresponding to a given source index. The source index can be arbitrarily chosen. "
   ]
  },
  {
   "cell_type": "code",
   "execution_count": 15,
   "metadata": {
    "colab": {},
    "colab_type": "code",
    "id": "cd0FREygAway"
   },
   "outputs": [],
   "source": [
    "data = numpy.array([\n",
    "       [-2.24871916e+01,  4.00034633, -5.29683032e-16,2.69702436e-01,  4.79450637e+00, -7.64330189e-01,1.19741715e+01, -2.57331129e+00, -2.24712398e+01,4.00186568,  6.02877872e-16,  8.66623674e-02,4.69696659e+00,  7.29309345e-01,  1.11261889e+01,9.57692377e-01],\n",
    "       [-2.24871916e+01,  4.00034633, -5.29683032e-16,2.69702436e-01,  4.79450637e+00, -7.64330189e-01,1.19741715e+01, -2.57331129e+00, -2.24712398e+01,4.00186568,  6.02877872e-16,  8.66623674e-02,4.69696659e+00,  7.29309345e-01,  1.11261889e+01,9.57692377e-01],\n",
    "       [-2.24871916e+01,  4.00034633, -5.29683032e-16,2.69702436e-01,  4.79450637e+00, -7.64330189e-01,1.19741715e+01, -2.57331129e+00, -2.24712398e+01,4.00186568,  6.02877872e-16,  8.66623674e-02,4.69696659e+00,  7.29309345e-01,  1.11261889e+01,9.57692377e-01],\n",
    "       [-2.24331589e+01,  4.00035668, -1.39371732e-15,1.51786749e-01,  4.84519246e+00, -6.22606458e-01,1.19964789e+01,  3.97795495e-01, -2.23873624e+01,4.00186603,  8.38575976e-16, -1.28895008e-01,4.73397643e+00,  5.04903712e-01,  7.70038613e+00,1.27287409e+00],\n",
    "       [-2.24871916e+01,  4.00034633, -5.35511713e-16,2.69702436e-01,  4.79450637e+00, -7.64330189e-01,1.19741715e+01, -2.57331129e+00, -2.24712398e+01,4.00186568,  6.03759765e-16,  8.66623674e-02,4.69696659e+00,  7.29309345e-01,  1.11261889e+01,9.57692377e-01],\n",
    "       [-2.24331589e+01,  4.00035668, -1.39371732e-15,1.51786749e-01,  4.84519246e+00, -6.22606458e-01,1.19964789e+01,  3.97795495e-01, -2.23873624e+01,4.00186603,  8.38575976e-16, -1.28895008e-01,4.73397643e+00,  5.04903712e-01,  7.70038613e+00,1.27287409e+00],\n",
    "       [-2.24871916e+01,  4.00034633, -5.33625563e-16,2.69702436e-01,  4.79450637e+00, -7.64330189e-01,1.19741715e+01, -2.57331129e+00, -2.24712398e+01,4.00186568,  5.98482650e-16,  8.66623674e-02,4.69696659e+00,  7.29309345e-01,  1.11261889e+01,9.57692377e-01],\n",
    "       [-2.24871916e+01,  4.00034633, -5.33625563e-16,2.69702436e-01,  4.79450637e+00, -7.64330189e-01,1.19741715e+01, -2.57331129e+00, -2.24712398e+01,4.00186568,  5.98482650e-16,  8.66623674e-02,4.69696659e+00,  7.29309345e-01,  1.11261889e+01,9.57692377e-01],\n",
    "       [-2.24331589e+01,  4.00035668, -1.39371732e-15,1.51786749e-01,  4.84519246e+00, -6.22606458e-01,1.19964789e+01,  3.97795495e-01, -2.23873624e+01,4.00186603,  8.38575976e-16, -1.49169611e-01,4.73397643e+00,  5.04903712e-01,  7.70038613e+00,1.27287409e+00],\n",
    "       [-2.24871916e+01,  4.00034633, -5.65145097e-16,2.69702436e-01,  4.79450637e+00, -7.64330189e-01,1.19741715e+01, -2.57331129e+00, -2.24712398e+01,4.00186568,  5.87696213e-16,  8.66623674e-02,4.69696659e+00,  7.29309345e-01,  1.11261889e+01,9.57692377e-01]])\n"
   ]
  },
  {
   "cell_type": "code",
   "execution_count": 16,
   "metadata": {
    "colab": {},
    "colab_type": "code",
    "id": "SKH09IP5A7eX"
   },
   "outputs": [],
   "source": [
    "base_names = ['Amplitude', 'Frequency', 'FrequencyDerivative', 'EclipticLatitude', 'EclipticLongitude',\n",
    "             'Inclination', 'Polarization', 'InitialPhase']\n",
    "names = [n+'_'+str(index) for index in [5482, 4765] for n in base_names]\n",
    "recarray = numpy.rec.fromarrays(list(data.T), names=names)"
   ]
  },
  {
   "cell_type": "code",
   "execution_count": 17,
   "metadata": {},
   "outputs": [],
   "source": [
    "numpy.savetxt('gb-4.000-4.002-pdf.csv', recarray,\n",
    "              header=','.join(recarray.dtype.names),\n",
    "              delimiter=',', fmt='%.8e')"
   ]
  },
  {
   "cell_type": "code",
   "execution_count": 18,
   "metadata": {
    "colab": {
     "base_uri": "https://localhost:8080/",
     "height": 265
    },
    "colab_type": "code",
    "id": "RGz3JBWjBk-U",
    "outputId": "c8d1000e-15c8-4be0-ac6f-18f07c093ee8"
   },
   "outputs": [
    {
     "name": "stdout",
     "output_type": "stream",
     "text": [
      "# Amplitude_5482,Frequency_5482,FrequencyDerivative_5482,EclipticLatitude_5482,EclipticLongitude_5482,Inclination_5482,Polarization_5482,InitialPhase_5482,Amplitude_4765,Frequency_4765,FrequencyDerivative_4765,EclipticLatitude_4765,EclipticLongitude_4765,Inclination_4765,Polarization_4765,InitialPhase_4765\r\n",
      "-2.24871916e+01,4.00034633e+00,-5.29683032e-16,2.69702436e-01,4.79450637e+00,-7.64330189e-01,1.19741715e+01,-2.57331129e+00,-2.24712398e+01,4.00186568e+00,6.02877872e-16,8.66623674e-02,4.69696659e+00,7.29309345e-01,1.11261889e+01,9.57692377e-01\r\n",
      "-2.24871916e+01,4.00034633e+00,-5.29683032e-16,2.69702436e-01,4.79450637e+00,-7.64330189e-01,1.19741715e+01,-2.57331129e+00,-2.24712398e+01,4.00186568e+00,6.02877872e-16,8.66623674e-02,4.69696659e+00,7.29309345e-01,1.11261889e+01,9.57692377e-01\r\n",
      "-2.24871916e+01,4.00034633e+00,-5.29683032e-16,2.69702436e-01,4.79450637e+00,-7.64330189e-01,1.19741715e+01,-2.57331129e+00,-2.24712398e+01,4.00186568e+00,6.02877872e-16,8.66623674e-02,4.69696659e+00,7.29309345e-01,1.11261889e+01,9.57692377e-01\r\n",
      "-2.24331589e+01,4.00035668e+00,-1.39371732e-15,1.51786749e-01,4.84519246e+00,-6.22606458e-01,1.19964789e+01,3.97795495e-01,-2.23873624e+01,4.00186603e+00,8.38575976e-16,-1.28895008e-01,4.73397643e+00,5.04903712e-01,7.70038613e+00,1.27287409e+00\r\n",
      "-2.24871916e+01,4.00034633e+00,-5.35511713e-16,2.69702436e-01,4.79450637e+00,-7.64330189e-01,1.19741715e+01,-2.57331129e+00,-2.24712398e+01,4.00186568e+00,6.03759765e-16,8.66623674e-02,4.69696659e+00,7.29309345e-01,1.11261889e+01,9.57692377e-01\r\n",
      "-2.24331589e+01,4.00035668e+00,-1.39371732e-15,1.51786749e-01,4.84519246e+00,-6.22606458e-01,1.19964789e+01,3.97795495e-01,-2.23873624e+01,4.00186603e+00,8.38575976e-16,-1.28895008e-01,4.73397643e+00,5.04903712e-01,7.70038613e+00,1.27287409e+00\r\n",
      "-2.24871916e+01,4.00034633e+00,-5.33625563e-16,2.69702436e-01,4.79450637e+00,-7.64330189e-01,1.19741715e+01,-2.57331129e+00,-2.24712398e+01,4.00186568e+00,5.98482650e-16,8.66623674e-02,4.69696659e+00,7.29309345e-01,1.11261889e+01,9.57692377e-01\r\n",
      "-2.24871916e+01,4.00034633e+00,-5.33625563e-16,2.69702436e-01,4.79450637e+00,-7.64330189e-01,1.19741715e+01,-2.57331129e+00,-2.24712398e+01,4.00186568e+00,5.98482650e-16,8.66623674e-02,4.69696659e+00,7.29309345e-01,1.11261889e+01,9.57692377e-01\r\n",
      "-2.24331589e+01,4.00035668e+00,-1.39371732e-15,1.51786749e-01,4.84519246e+00,-6.22606458e-01,1.19964789e+01,3.97795495e-01,-2.23873624e+01,4.00186603e+00,8.38575976e-16,-1.49169611e-01,4.73397643e+00,5.04903712e-01,7.70038613e+00,1.27287409e+00\r\n",
      "-2.24871916e+01,4.00034633e+00,-5.65145097e-16,2.69702436e-01,4.79450637e+00,-7.64330189e-01,1.19741715e+01,-2.57331129e+00,-2.24712398e+01,4.00186568e+00,5.87696213e-16,8.66623674e-02,4.69696659e+00,7.29309345e-01,1.11261889e+01,9.57692377e-01\r\n"
     ]
    }
   ],
   "source": [
    "!cat gb-4.000-4.002-pdf.csv"
   ]
  },
  {
   "cell_type": "markdown",
   "metadata": {
    "colab_type": "text",
    "id": "PGmSu2V8-vsP"
   },
   "source": [
    "Use multiple table files for multiple frequency ranges"
   ]
  },
  {
   "cell_type": "code",
   "execution_count": 19,
   "metadata": {
    "colab": {},
    "colab_type": "code",
    "id": "ZCft7mbM-ma7"
   },
   "outputs": [],
   "source": [
    "entry = {'author': 'Maude Le Jeune',\n",
    "         'e-mail': 'lejeune@lejeune.org',\n",
    "         'date': '2018/03/20',           # standardize?\n",
    "         'challenge': 'LDC2a',\n",
    "         'dataset': 'LDC2a-training-GB',\n",
    "         'posteriors': ['gb-4.000-4.002-pdf.csv']}"
   ]
  },
  {
   "cell_type": "code",
   "execution_count": 20,
   "metadata": {
    "colab": {
     "base_uri": "https://localhost:8080/",
     "height": 34
    },
    "colab_type": "code",
    "id": "CWxXG23cCKK8",
    "outputId": "9c89ac7e-1c39-4008-af3d-b5e7bca0e96f"
   },
   "outputs": [
    {
     "data": {
      "text/plain": [
       "149"
      ]
     },
     "execution_count": 20,
     "metadata": {},
     "output_type": "execute_result"
    }
   ],
   "source": [
    "open('lejeune-ldc2a-training-gb_posteriors.yaml','w').write(yaml.dump(entry, default_flow_style=False))"
   ]
  },
  {
   "cell_type": "code",
   "execution_count": 21,
   "metadata": {
    "colab": {
     "base_uri": "https://localhost:8080/",
     "height": 167
    },
    "colab_type": "code",
    "id": "DOwxFEKbCOzO",
    "outputId": "a7c14ae4-0148-4ab8-d232-04998176682f"
   },
   "outputs": [
    {
     "name": "stdout",
     "output_type": "stream",
     "text": [
      "author: Maude Le Jeune\r\n",
      "challenge: LDC2a\r\n",
      "dataset: LDC2a-training-GB\r\n",
      "date: 2018/03/20\r\n",
      "e-mail: lejeune@lejeune.org\r\n",
      "posteriors:\r\n",
      "- gb-4.000-4.002-pdf.csv\r\n"
     ]
    }
   ],
   "source": [
    "!cat lejeune-ldc2a-training-gb_posteriors.yaml"
   ]
  },
  {
   "cell_type": "markdown",
   "metadata": {
    "colab_type": "text",
    "id": "Z4ZKkq-1CcEI"
   },
   "source": [
    "## A posterior table, from a Pandas DataFrame"
   ]
  },
  {
   "cell_type": "code",
   "execution_count": 22,
   "metadata": {
    "colab": {},
    "colab_type": "code",
    "id": "RpME9Y3dCNiV"
   },
   "outputs": [],
   "source": [
    "df = pandas.DataFrame(data,columns=names)"
   ]
  },
  {
   "cell_type": "code",
   "execution_count": 23,
   "metadata": {
    "colab": {
     "base_uri": "https://localhost:8080/",
     "height": 384
    },
    "colab_type": "code",
    "id": "Lf-PS9y5Chqu",
    "outputId": "6c7765a0-16c0-44f6-a2b3-c2abcdab8038"
   },
   "outputs": [
    {
     "data": {
      "text/html": [
       "<div>\n",
       "<style scoped>\n",
       "    .dataframe tbody tr th:only-of-type {\n",
       "        vertical-align: middle;\n",
       "    }\n",
       "\n",
       "    .dataframe tbody tr th {\n",
       "        vertical-align: top;\n",
       "    }\n",
       "\n",
       "    .dataframe thead th {\n",
       "        text-align: right;\n",
       "    }\n",
       "</style>\n",
       "<table border=\"1\" class=\"dataframe\">\n",
       "  <thead>\n",
       "    <tr style=\"text-align: right;\">\n",
       "      <th></th>\n",
       "      <th>Amplitude_5482</th>\n",
       "      <th>Frequency_5482</th>\n",
       "      <th>FrequencyDerivative_5482</th>\n",
       "      <th>EclipticLatitude_5482</th>\n",
       "      <th>EclipticLongitude_5482</th>\n",
       "      <th>Inclination_5482</th>\n",
       "      <th>Polarization_5482</th>\n",
       "      <th>InitialPhase_5482</th>\n",
       "      <th>Amplitude_4765</th>\n",
       "      <th>Frequency_4765</th>\n",
       "      <th>FrequencyDerivative_4765</th>\n",
       "      <th>EclipticLatitude_4765</th>\n",
       "      <th>EclipticLongitude_4765</th>\n",
       "      <th>Inclination_4765</th>\n",
       "      <th>Polarization_4765</th>\n",
       "      <th>InitialPhase_4765</th>\n",
       "    </tr>\n",
       "  </thead>\n",
       "  <tbody>\n",
       "    <tr>\n",
       "      <th>0</th>\n",
       "      <td>-22.487192</td>\n",
       "      <td>4.000346</td>\n",
       "      <td>-5.296830e-16</td>\n",
       "      <td>0.269702</td>\n",
       "      <td>4.794506</td>\n",
       "      <td>-0.764330</td>\n",
       "      <td>11.974172</td>\n",
       "      <td>-2.573311</td>\n",
       "      <td>-22.471240</td>\n",
       "      <td>4.001866</td>\n",
       "      <td>6.028779e-16</td>\n",
       "      <td>0.086662</td>\n",
       "      <td>4.696967</td>\n",
       "      <td>0.729309</td>\n",
       "      <td>11.126189</td>\n",
       "      <td>0.957692</td>\n",
       "    </tr>\n",
       "    <tr>\n",
       "      <th>1</th>\n",
       "      <td>-22.487192</td>\n",
       "      <td>4.000346</td>\n",
       "      <td>-5.296830e-16</td>\n",
       "      <td>0.269702</td>\n",
       "      <td>4.794506</td>\n",
       "      <td>-0.764330</td>\n",
       "      <td>11.974172</td>\n",
       "      <td>-2.573311</td>\n",
       "      <td>-22.471240</td>\n",
       "      <td>4.001866</td>\n",
       "      <td>6.028779e-16</td>\n",
       "      <td>0.086662</td>\n",
       "      <td>4.696967</td>\n",
       "      <td>0.729309</td>\n",
       "      <td>11.126189</td>\n",
       "      <td>0.957692</td>\n",
       "    </tr>\n",
       "    <tr>\n",
       "      <th>2</th>\n",
       "      <td>-22.487192</td>\n",
       "      <td>4.000346</td>\n",
       "      <td>-5.296830e-16</td>\n",
       "      <td>0.269702</td>\n",
       "      <td>4.794506</td>\n",
       "      <td>-0.764330</td>\n",
       "      <td>11.974172</td>\n",
       "      <td>-2.573311</td>\n",
       "      <td>-22.471240</td>\n",
       "      <td>4.001866</td>\n",
       "      <td>6.028779e-16</td>\n",
       "      <td>0.086662</td>\n",
       "      <td>4.696967</td>\n",
       "      <td>0.729309</td>\n",
       "      <td>11.126189</td>\n",
       "      <td>0.957692</td>\n",
       "    </tr>\n",
       "    <tr>\n",
       "      <th>3</th>\n",
       "      <td>-22.433159</td>\n",
       "      <td>4.000357</td>\n",
       "      <td>-1.393717e-15</td>\n",
       "      <td>0.151787</td>\n",
       "      <td>4.845192</td>\n",
       "      <td>-0.622606</td>\n",
       "      <td>11.996479</td>\n",
       "      <td>0.397795</td>\n",
       "      <td>-22.387362</td>\n",
       "      <td>4.001866</td>\n",
       "      <td>8.385760e-16</td>\n",
       "      <td>-0.128895</td>\n",
       "      <td>4.733976</td>\n",
       "      <td>0.504904</td>\n",
       "      <td>7.700386</td>\n",
       "      <td>1.272874</td>\n",
       "    </tr>\n",
       "    <tr>\n",
       "      <th>4</th>\n",
       "      <td>-22.487192</td>\n",
       "      <td>4.000346</td>\n",
       "      <td>-5.355117e-16</td>\n",
       "      <td>0.269702</td>\n",
       "      <td>4.794506</td>\n",
       "      <td>-0.764330</td>\n",
       "      <td>11.974172</td>\n",
       "      <td>-2.573311</td>\n",
       "      <td>-22.471240</td>\n",
       "      <td>4.001866</td>\n",
       "      <td>6.037598e-16</td>\n",
       "      <td>0.086662</td>\n",
       "      <td>4.696967</td>\n",
       "      <td>0.729309</td>\n",
       "      <td>11.126189</td>\n",
       "      <td>0.957692</td>\n",
       "    </tr>\n",
       "    <tr>\n",
       "      <th>5</th>\n",
       "      <td>-22.433159</td>\n",
       "      <td>4.000357</td>\n",
       "      <td>-1.393717e-15</td>\n",
       "      <td>0.151787</td>\n",
       "      <td>4.845192</td>\n",
       "      <td>-0.622606</td>\n",
       "      <td>11.996479</td>\n",
       "      <td>0.397795</td>\n",
       "      <td>-22.387362</td>\n",
       "      <td>4.001866</td>\n",
       "      <td>8.385760e-16</td>\n",
       "      <td>-0.128895</td>\n",
       "      <td>4.733976</td>\n",
       "      <td>0.504904</td>\n",
       "      <td>7.700386</td>\n",
       "      <td>1.272874</td>\n",
       "    </tr>\n",
       "    <tr>\n",
       "      <th>6</th>\n",
       "      <td>-22.487192</td>\n",
       "      <td>4.000346</td>\n",
       "      <td>-5.336256e-16</td>\n",
       "      <td>0.269702</td>\n",
       "      <td>4.794506</td>\n",
       "      <td>-0.764330</td>\n",
       "      <td>11.974172</td>\n",
       "      <td>-2.573311</td>\n",
       "      <td>-22.471240</td>\n",
       "      <td>4.001866</td>\n",
       "      <td>5.984827e-16</td>\n",
       "      <td>0.086662</td>\n",
       "      <td>4.696967</td>\n",
       "      <td>0.729309</td>\n",
       "      <td>11.126189</td>\n",
       "      <td>0.957692</td>\n",
       "    </tr>\n",
       "    <tr>\n",
       "      <th>7</th>\n",
       "      <td>-22.487192</td>\n",
       "      <td>4.000346</td>\n",
       "      <td>-5.336256e-16</td>\n",
       "      <td>0.269702</td>\n",
       "      <td>4.794506</td>\n",
       "      <td>-0.764330</td>\n",
       "      <td>11.974172</td>\n",
       "      <td>-2.573311</td>\n",
       "      <td>-22.471240</td>\n",
       "      <td>4.001866</td>\n",
       "      <td>5.984827e-16</td>\n",
       "      <td>0.086662</td>\n",
       "      <td>4.696967</td>\n",
       "      <td>0.729309</td>\n",
       "      <td>11.126189</td>\n",
       "      <td>0.957692</td>\n",
       "    </tr>\n",
       "    <tr>\n",
       "      <th>8</th>\n",
       "      <td>-22.433159</td>\n",
       "      <td>4.000357</td>\n",
       "      <td>-1.393717e-15</td>\n",
       "      <td>0.151787</td>\n",
       "      <td>4.845192</td>\n",
       "      <td>-0.622606</td>\n",
       "      <td>11.996479</td>\n",
       "      <td>0.397795</td>\n",
       "      <td>-22.387362</td>\n",
       "      <td>4.001866</td>\n",
       "      <td>8.385760e-16</td>\n",
       "      <td>-0.149170</td>\n",
       "      <td>4.733976</td>\n",
       "      <td>0.504904</td>\n",
       "      <td>7.700386</td>\n",
       "      <td>1.272874</td>\n",
       "    </tr>\n",
       "    <tr>\n",
       "      <th>9</th>\n",
       "      <td>-22.487192</td>\n",
       "      <td>4.000346</td>\n",
       "      <td>-5.651451e-16</td>\n",
       "      <td>0.269702</td>\n",
       "      <td>4.794506</td>\n",
       "      <td>-0.764330</td>\n",
       "      <td>11.974172</td>\n",
       "      <td>-2.573311</td>\n",
       "      <td>-22.471240</td>\n",
       "      <td>4.001866</td>\n",
       "      <td>5.876962e-16</td>\n",
       "      <td>0.086662</td>\n",
       "      <td>4.696967</td>\n",
       "      <td>0.729309</td>\n",
       "      <td>11.126189</td>\n",
       "      <td>0.957692</td>\n",
       "    </tr>\n",
       "  </tbody>\n",
       "</table>\n",
       "</div>"
      ],
      "text/plain": [
       "   Amplitude_5482  Frequency_5482  FrequencyDerivative_5482  \\\n",
       "0      -22.487192        4.000346             -5.296830e-16   \n",
       "1      -22.487192        4.000346             -5.296830e-16   \n",
       "2      -22.487192        4.000346             -5.296830e-16   \n",
       "3      -22.433159        4.000357             -1.393717e-15   \n",
       "4      -22.487192        4.000346             -5.355117e-16   \n",
       "5      -22.433159        4.000357             -1.393717e-15   \n",
       "6      -22.487192        4.000346             -5.336256e-16   \n",
       "7      -22.487192        4.000346             -5.336256e-16   \n",
       "8      -22.433159        4.000357             -1.393717e-15   \n",
       "9      -22.487192        4.000346             -5.651451e-16   \n",
       "\n",
       "   EclipticLatitude_5482  EclipticLongitude_5482  Inclination_5482  \\\n",
       "0               0.269702                4.794506         -0.764330   \n",
       "1               0.269702                4.794506         -0.764330   \n",
       "2               0.269702                4.794506         -0.764330   \n",
       "3               0.151787                4.845192         -0.622606   \n",
       "4               0.269702                4.794506         -0.764330   \n",
       "5               0.151787                4.845192         -0.622606   \n",
       "6               0.269702                4.794506         -0.764330   \n",
       "7               0.269702                4.794506         -0.764330   \n",
       "8               0.151787                4.845192         -0.622606   \n",
       "9               0.269702                4.794506         -0.764330   \n",
       "\n",
       "   Polarization_5482  InitialPhase_5482  Amplitude_4765  Frequency_4765  \\\n",
       "0          11.974172          -2.573311      -22.471240        4.001866   \n",
       "1          11.974172          -2.573311      -22.471240        4.001866   \n",
       "2          11.974172          -2.573311      -22.471240        4.001866   \n",
       "3          11.996479           0.397795      -22.387362        4.001866   \n",
       "4          11.974172          -2.573311      -22.471240        4.001866   \n",
       "5          11.996479           0.397795      -22.387362        4.001866   \n",
       "6          11.974172          -2.573311      -22.471240        4.001866   \n",
       "7          11.974172          -2.573311      -22.471240        4.001866   \n",
       "8          11.996479           0.397795      -22.387362        4.001866   \n",
       "9          11.974172          -2.573311      -22.471240        4.001866   \n",
       "\n",
       "   FrequencyDerivative_4765  EclipticLatitude_4765  EclipticLongitude_4765  \\\n",
       "0              6.028779e-16               0.086662                4.696967   \n",
       "1              6.028779e-16               0.086662                4.696967   \n",
       "2              6.028779e-16               0.086662                4.696967   \n",
       "3              8.385760e-16              -0.128895                4.733976   \n",
       "4              6.037598e-16               0.086662                4.696967   \n",
       "5              8.385760e-16              -0.128895                4.733976   \n",
       "6              5.984827e-16               0.086662                4.696967   \n",
       "7              5.984827e-16               0.086662                4.696967   \n",
       "8              8.385760e-16              -0.149170                4.733976   \n",
       "9              5.876962e-16               0.086662                4.696967   \n",
       "\n",
       "   Inclination_4765  Polarization_4765  InitialPhase_4765  \n",
       "0          0.729309          11.126189           0.957692  \n",
       "1          0.729309          11.126189           0.957692  \n",
       "2          0.729309          11.126189           0.957692  \n",
       "3          0.504904           7.700386           1.272874  \n",
       "4          0.729309          11.126189           0.957692  \n",
       "5          0.504904           7.700386           1.272874  \n",
       "6          0.729309          11.126189           0.957692  \n",
       "7          0.729309          11.126189           0.957692  \n",
       "8          0.504904           7.700386           1.272874  \n",
       "9          0.729309          11.126189           0.957692  "
      ]
     },
     "execution_count": 23,
     "metadata": {},
     "output_type": "execute_result"
    }
   ],
   "source": [
    "df"
   ]
  },
  {
   "cell_type": "code",
   "execution_count": 24,
   "metadata": {
    "colab": {},
    "colab_type": "code",
    "id": "gEZRT2BOCuXo"
   },
   "outputs": [],
   "source": [
    "df.to_csv('gb-4.000-4.002-pdf.csv',index=False)"
   ]
  },
  {
   "cell_type": "code",
   "execution_count": 25,
   "metadata": {
    "colab": {
     "base_uri": "https://localhost:8080/",
     "height": 265
    },
    "colab_type": "code",
    "id": "yS789uTPC0hB",
    "outputId": "cc4845c5-6dd5-44b2-ef08-f53e2a338a83"
   },
   "outputs": [
    {
     "name": "stdout",
     "output_type": "stream",
     "text": [
      "Amplitude_5482,Frequency_5482,FrequencyDerivative_5482,EclipticLatitude_5482,EclipticLongitude_5482,Inclination_5482,Polarization_5482,InitialPhase_5482,Amplitude_4765,Frequency_4765,FrequencyDerivative_4765,EclipticLatitude_4765,EclipticLongitude_4765,Inclination_4765,Polarization_4765,InitialPhase_4765\r\n",
      "-22.4871916,4.00034633,-5.29683032e-16,0.269702436,4.79450637,-0.764330189,11.9741715,-2.57331129,-22.4712398,4.00186568,6.02877872e-16,0.0866623674,4.69696659,0.729309345,11.1261889,0.957692377\r\n",
      "-22.4871916,4.00034633,-5.29683032e-16,0.269702436,4.79450637,-0.764330189,11.9741715,-2.57331129,-22.4712398,4.00186568,6.02877872e-16,0.0866623674,4.69696659,0.729309345,11.1261889,0.957692377\r\n",
      "-22.4871916,4.00034633,-5.29683032e-16,0.269702436,4.79450637,-0.764330189,11.9741715,-2.57331129,-22.4712398,4.00186568,6.02877872e-16,0.0866623674,4.69696659,0.729309345,11.1261889,0.957692377\r\n",
      "-22.4331589,4.00035668,-1.39371732e-15,0.151786749,4.84519246,-0.622606458,11.9964789,0.397795495,-22.3873624,4.00186603,8.38575976e-16,-0.128895008,4.73397643,0.504903712,7.70038613,1.27287409\r\n",
      "-22.4871916,4.00034633,-5.35511713e-16,0.269702436,4.79450637,-0.764330189,11.9741715,-2.57331129,-22.4712398,4.00186568,6.03759765e-16,0.0866623674,4.69696659,0.729309345,11.1261889,0.957692377\r\n",
      "-22.4331589,4.00035668,-1.39371732e-15,0.151786749,4.84519246,-0.622606458,11.9964789,0.397795495,-22.3873624,4.00186603,8.38575976e-16,-0.128895008,4.73397643,0.504903712,7.70038613,1.27287409\r\n",
      "-22.4871916,4.00034633,-5.33625563e-16,0.269702436,4.79450637,-0.764330189,11.9741715,-2.57331129,-22.4712398,4.00186568,5.9848265e-16,0.0866623674,4.69696659,0.729309345,11.1261889,0.957692377\r\n",
      "-22.4871916,4.00034633,-5.33625563e-16,0.269702436,4.79450637,-0.764330189,11.9741715,-2.57331129,-22.4712398,4.00186568,5.9848265e-16,0.0866623674,4.69696659,0.729309345,11.1261889,0.957692377\r\n",
      "-22.4331589,4.00035668,-1.39371732e-15,0.151786749,4.84519246,-0.622606458,11.9964789,0.397795495,-22.3873624,4.00186603,8.38575976e-16,-0.149169611,4.73397643,0.504903712,7.70038613,1.27287409\r\n",
      "-22.4871916,4.00034633,-5.65145097e-16,0.269702436,4.79450637,-0.764330189,11.9741715,-2.57331129,-22.4712398,4.00186568,5.87696213e-16,0.0866623674,4.69696659,0.729309345,11.1261889,0.957692377\r\n"
     ]
    }
   ],
   "source": [
    "!cat gb-4.000-4.002-pdf.csv"
   ]
  }
 ],
 "metadata": {
  "colab": {
   "collapsed_sections": [],
   "name": "LDC-submit.ipynb",
   "provenance": [],
   "version": "0.3.2"
  },
  "kernelspec": {
   "display_name": "pv39",
   "language": "python",
   "name": "venv"
  },
  "language_info": {
   "codemirror_mode": {
    "name": "ipython",
    "version": 3
   },
   "file_extension": ".py",
   "mimetype": "text/x-python",
   "name": "python",
   "nbconvert_exporter": "python",
   "pygments_lexer": "ipython3",
   "version": "3.9.1"
  }
 },
 "nbformat": 4,
 "nbformat_minor": 1
}
